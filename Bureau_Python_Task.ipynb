{
 "cells": [
  {
   "cell_type": "markdown",
   "id": "f5fce96d",
   "metadata": {},
   "source": [
    "# Install Necessary Libraries"
   ]
  },
  {
   "cell_type": "code",
   "execution_count": 2,
   "id": "5fe1c4a1",
   "metadata": {},
   "outputs": [],
   "source": [
    "# !pip install requests"
   ]
  },
  {
   "cell_type": "markdown",
   "id": "5f742115",
   "metadata": {},
   "source": [
    "# Import Libraries"
   ]
  },
  {
   "cell_type": "code",
   "execution_count": 3,
   "id": "8b7bb4f0",
   "metadata": {},
   "outputs": [],
   "source": [
    "import requests\n",
    "import json\n",
    "import csv"
   ]
  },
  {
   "cell_type": "code",
   "execution_count": 4,
   "id": "4eda40f3",
   "metadata": {},
   "outputs": [
    {
     "name": "stdout",
     "output_type": "stream",
     "text": [
      "Data successfully written to coindesk_data.csv\n"
     ]
    }
   ],
   "source": [
    "def fetch_and_flatten_data(api_url):\n",
    "    response = requests.get(api_url)\n",
    "\n",
    "    if response.status_code == 200:\n",
    "        data = response.json()\n",
    "        flattened_data = flatten_json(data)\n",
    "        return flattened_data\n",
    "    else:\n",
    "        print(f\"Error fetching data. Status code: {response.status_code}\")\n",
    "        return None\n",
    "\n",
    "\n",
    "def flatten_json(data, parent_key='', sep='_'):\n",
    "    flattened_data = {}\n",
    "\n",
    "    for k, v in data.items():\n",
    "        new_key = f\"{parent_key}{sep}{k}\" if parent_key else k\n",
    "\n",
    "        if isinstance(v, dict):\n",
    "            flattened_data.update(flatten_json(v, new_key, sep=sep))\n",
    "        else:\n",
    "            flattened_data[new_key] = v\n",
    "\n",
    "    return flattened_data\n",
    "\n",
    "\n",
    "def write_to_csv(data, csv_file):\n",
    "    with open(csv_file, 'w', newline='') as csvfile:\n",
    "        fieldnames = data.keys()\n",
    "        writer = csv.DictWriter(csvfile, fieldnames=fieldnames)\n",
    "\n",
    "        writer.writeheader()\n",
    "        writer.writerow(data)\n",
    "\n",
    "\n",
    "def main():\n",
    "    api_url = \"https://api.coindesk.com/v1/bpi/currentprice.json\"\n",
    "    flattened_data = fetch_and_flatten_data(api_url)\n",
    "\n",
    "    if flattened_data:\n",
    "        csv_file = \"coindesk_data.csv\"\n",
    "        write_to_csv(flattened_data, csv_file)\n",
    "        print(f\"Data successfully written to {csv_file}\")\n",
    "\n",
    "\n",
    "if __name__ == \"__main__\":\n",
    "    main()"
   ]
  },
  {
   "cell_type": "markdown",
   "id": "dc8b5e8a",
   "metadata": {},
   "source": [
    "# Analysis of Data"
   ]
  },
  {
   "cell_type": "code",
   "execution_count": 7,
   "id": "e68f2ea5",
   "metadata": {},
   "outputs": [
    {
     "data": {
      "text/html": [
       "<div>\n",
       "<style scoped>\n",
       "    .dataframe tbody tr th:only-of-type {\n",
       "        vertical-align: middle;\n",
       "    }\n",
       "\n",
       "    .dataframe tbody tr th {\n",
       "        vertical-align: top;\n",
       "    }\n",
       "\n",
       "    .dataframe thead th {\n",
       "        text-align: right;\n",
       "    }\n",
       "</style>\n",
       "<table border=\"1\" class=\"dataframe\">\n",
       "  <thead>\n",
       "    <tr style=\"text-align: right;\">\n",
       "      <th></th>\n",
       "      <th>time_updated</th>\n",
       "      <th>time_updatedISO</th>\n",
       "      <th>time_updateduk</th>\n",
       "      <th>disclaimer</th>\n",
       "      <th>chartName</th>\n",
       "      <th>bpi_USD_code</th>\n",
       "      <th>bpi_USD_symbol</th>\n",
       "      <th>bpi_USD_rate</th>\n",
       "      <th>bpi_USD_description</th>\n",
       "      <th>bpi_USD_rate_float</th>\n",
       "      <th>bpi_GBP_code</th>\n",
       "      <th>bpi_GBP_symbol</th>\n",
       "      <th>bpi_GBP_rate</th>\n",
       "      <th>bpi_GBP_description</th>\n",
       "      <th>bpi_GBP_rate_float</th>\n",
       "      <th>bpi_EUR_code</th>\n",
       "      <th>bpi_EUR_symbol</th>\n",
       "      <th>bpi_EUR_rate</th>\n",
       "      <th>bpi_EUR_description</th>\n",
       "      <th>bpi_EUR_rate_float</th>\n",
       "    </tr>\n",
       "  </thead>\n",
       "  <tbody>\n",
       "    <tr>\n",
       "      <th>0</th>\n",
       "      <td>Jan 21, 2024 05:11:36 UTC</td>\n",
       "      <td>2024-01-21T05:11:36+00:00</td>\n",
       "      <td>Jan 21, 2024 at 05:11 GMT</td>\n",
       "      <td>This data was produced from the CoinDesk Bitco...</td>\n",
       "      <td>Bitcoin</td>\n",
       "      <td>USD</td>\n",
       "      <td>&amp;#36;</td>\n",
       "      <td>41,719.109</td>\n",
       "      <td>United States Dollar</td>\n",
       "      <td>41719.1089</td>\n",
       "      <td>GBP</td>\n",
       "      <td>&amp;pound;</td>\n",
       "      <td>32,839.363</td>\n",
       "      <td>British Pound Sterling</td>\n",
       "      <td>32839.3634</td>\n",
       "      <td>EUR</td>\n",
       "      <td>&amp;euro;</td>\n",
       "      <td>38,258.509</td>\n",
       "      <td>Euro</td>\n",
       "      <td>38258.5088</td>\n",
       "    </tr>\n",
       "  </tbody>\n",
       "</table>\n",
       "</div>"
      ],
      "text/plain": [
       "                time_updated            time_updatedISO  \\\n",
       "0  Jan 21, 2024 05:11:36 UTC  2024-01-21T05:11:36+00:00   \n",
       "\n",
       "              time_updateduk  \\\n",
       "0  Jan 21, 2024 at 05:11 GMT   \n",
       "\n",
       "                                          disclaimer chartName bpi_USD_code  \\\n",
       "0  This data was produced from the CoinDesk Bitco...   Bitcoin          USD   \n",
       "\n",
       "  bpi_USD_symbol bpi_USD_rate   bpi_USD_description  bpi_USD_rate_float  \\\n",
       "0          &#36;   41,719.109  United States Dollar          41719.1089   \n",
       "\n",
       "  bpi_GBP_code bpi_GBP_symbol bpi_GBP_rate     bpi_GBP_description  \\\n",
       "0          GBP        &pound;   32,839.363  British Pound Sterling   \n",
       "\n",
       "   bpi_GBP_rate_float bpi_EUR_code bpi_EUR_symbol bpi_EUR_rate  \\\n",
       "0          32839.3634          EUR         &euro;   38,258.509   \n",
       "\n",
       "  bpi_EUR_description  bpi_EUR_rate_float  \n",
       "0                Euro          38258.5088  "
      ]
     },
     "execution_count": 7,
     "metadata": {},
     "output_type": "execute_result"
    }
   ],
   "source": [
    "import pandas as pd\n",
    "\n",
    "# Read the CSV file into a pandas DataFrame\n",
    "csv_file = \"coindesk_data.csv\"\n",
    "df = pd.read_csv(csv_file)\n",
    "df"
   ]
  },
  {
   "cell_type": "code",
   "execution_count": 17,
   "id": "bcf5de2b",
   "metadata": {},
   "outputs": [
    {
     "name": "stdout",
     "output_type": "stream",
     "text": [
      "<class 'pandas.core.frame.DataFrame'>\n",
      "RangeIndex: 1 entries, 0 to 0\n",
      "Data columns (total 20 columns):\n",
      " #   Column               Non-Null Count  Dtype  \n",
      "---  ------               --------------  -----  \n",
      " 0   time_updated         1 non-null      object \n",
      " 1   time_updatedISO      1 non-null      object \n",
      " 2   time_updateduk       1 non-null      object \n",
      " 3   disclaimer           1 non-null      object \n",
      " 4   chartName            1 non-null      object \n",
      " 5   bpi_USD_code         1 non-null      object \n",
      " 6   bpi_USD_symbol       1 non-null      object \n",
      " 7   bpi_USD_rate         1 non-null      float64\n",
      " 8   bpi_USD_description  1 non-null      object \n",
      " 9   bpi_USD_rate_float   1 non-null      float64\n",
      " 10  bpi_GBP_code         1 non-null      object \n",
      " 11  bpi_GBP_symbol       1 non-null      object \n",
      " 12  bpi_GBP_rate         1 non-null      float64\n",
      " 13  bpi_GBP_description  1 non-null      object \n",
      " 14  bpi_GBP_rate_float   1 non-null      float64\n",
      " 15  bpi_EUR_code         1 non-null      object \n",
      " 16  bpi_EUR_symbol       1 non-null      object \n",
      " 17  bpi_EUR_rate         1 non-null      float64\n",
      " 18  bpi_EUR_description  1 non-null      object \n",
      " 19  bpi_EUR_rate_float   1 non-null      float64\n",
      "dtypes: float64(6), object(14)\n",
      "memory usage: 292.0+ bytes\n"
     ]
    }
   ],
   "source": [
    "df.info()"
   ]
  },
  {
   "cell_type": "code",
   "execution_count": 18,
   "id": "1a0ff3af",
   "metadata": {},
   "outputs": [
    {
     "data": {
      "text/html": [
       "<div>\n",
       "<style scoped>\n",
       "    .dataframe tbody tr th:only-of-type {\n",
       "        vertical-align: middle;\n",
       "    }\n",
       "\n",
       "    .dataframe tbody tr th {\n",
       "        vertical-align: top;\n",
       "    }\n",
       "\n",
       "    .dataframe thead th {\n",
       "        text-align: right;\n",
       "    }\n",
       "</style>\n",
       "<table border=\"1\" class=\"dataframe\">\n",
       "  <thead>\n",
       "    <tr style=\"text-align: right;\">\n",
       "      <th></th>\n",
       "      <th>bpi_USD_rate</th>\n",
       "      <th>bpi_USD_rate_float</th>\n",
       "      <th>bpi_GBP_rate</th>\n",
       "      <th>bpi_GBP_rate_float</th>\n",
       "      <th>bpi_EUR_rate</th>\n",
       "      <th>bpi_EUR_rate_float</th>\n",
       "    </tr>\n",
       "  </thead>\n",
       "  <tbody>\n",
       "    <tr>\n",
       "      <th>count</th>\n",
       "      <td>1.000</td>\n",
       "      <td>1.0000</td>\n",
       "      <td>1.000</td>\n",
       "      <td>1.0000</td>\n",
       "      <td>1.000</td>\n",
       "      <td>1.0000</td>\n",
       "    </tr>\n",
       "    <tr>\n",
       "      <th>mean</th>\n",
       "      <td>41719.109</td>\n",
       "      <td>41719.1089</td>\n",
       "      <td>32839.363</td>\n",
       "      <td>32839.3634</td>\n",
       "      <td>38258.509</td>\n",
       "      <td>38258.5088</td>\n",
       "    </tr>\n",
       "    <tr>\n",
       "      <th>std</th>\n",
       "      <td>NaN</td>\n",
       "      <td>NaN</td>\n",
       "      <td>NaN</td>\n",
       "      <td>NaN</td>\n",
       "      <td>NaN</td>\n",
       "      <td>NaN</td>\n",
       "    </tr>\n",
       "    <tr>\n",
       "      <th>min</th>\n",
       "      <td>41719.109</td>\n",
       "      <td>41719.1089</td>\n",
       "      <td>32839.363</td>\n",
       "      <td>32839.3634</td>\n",
       "      <td>38258.509</td>\n",
       "      <td>38258.5088</td>\n",
       "    </tr>\n",
       "    <tr>\n",
       "      <th>25%</th>\n",
       "      <td>41719.109</td>\n",
       "      <td>41719.1089</td>\n",
       "      <td>32839.363</td>\n",
       "      <td>32839.3634</td>\n",
       "      <td>38258.509</td>\n",
       "      <td>38258.5088</td>\n",
       "    </tr>\n",
       "    <tr>\n",
       "      <th>50%</th>\n",
       "      <td>41719.109</td>\n",
       "      <td>41719.1089</td>\n",
       "      <td>32839.363</td>\n",
       "      <td>32839.3634</td>\n",
       "      <td>38258.509</td>\n",
       "      <td>38258.5088</td>\n",
       "    </tr>\n",
       "    <tr>\n",
       "      <th>75%</th>\n",
       "      <td>41719.109</td>\n",
       "      <td>41719.1089</td>\n",
       "      <td>32839.363</td>\n",
       "      <td>32839.3634</td>\n",
       "      <td>38258.509</td>\n",
       "      <td>38258.5088</td>\n",
       "    </tr>\n",
       "    <tr>\n",
       "      <th>max</th>\n",
       "      <td>41719.109</td>\n",
       "      <td>41719.1089</td>\n",
       "      <td>32839.363</td>\n",
       "      <td>32839.3634</td>\n",
       "      <td>38258.509</td>\n",
       "      <td>38258.5088</td>\n",
       "    </tr>\n",
       "  </tbody>\n",
       "</table>\n",
       "</div>"
      ],
      "text/plain": [
       "       bpi_USD_rate  bpi_USD_rate_float  bpi_GBP_rate  bpi_GBP_rate_float  \\\n",
       "count         1.000              1.0000         1.000              1.0000   \n",
       "mean      41719.109          41719.1089     32839.363          32839.3634   \n",
       "std             NaN                 NaN           NaN                 NaN   \n",
       "min       41719.109          41719.1089     32839.363          32839.3634   \n",
       "25%       41719.109          41719.1089     32839.363          32839.3634   \n",
       "50%       41719.109          41719.1089     32839.363          32839.3634   \n",
       "75%       41719.109          41719.1089     32839.363          32839.3634   \n",
       "max       41719.109          41719.1089     32839.363          32839.3634   \n",
       "\n",
       "       bpi_EUR_rate  bpi_EUR_rate_float  \n",
       "count         1.000              1.0000  \n",
       "mean      38258.509          38258.5088  \n",
       "std             NaN                 NaN  \n",
       "min       38258.509          38258.5088  \n",
       "25%       38258.509          38258.5088  \n",
       "50%       38258.509          38258.5088  \n",
       "75%       38258.509          38258.5088  \n",
       "max       38258.509          38258.5088  "
      ]
     },
     "execution_count": 18,
     "metadata": {},
     "output_type": "execute_result"
    }
   ],
   "source": [
    "df.describe()"
   ]
  },
  {
   "cell_type": "code",
   "execution_count": 19,
   "id": "6137924a",
   "metadata": {},
   "outputs": [
    {
     "data": {
      "text/plain": [
       "time_updated           0\n",
       "time_updatedISO        0\n",
       "time_updateduk         0\n",
       "disclaimer             0\n",
       "chartName              0\n",
       "bpi_USD_code           0\n",
       "bpi_USD_symbol         0\n",
       "bpi_USD_rate           0\n",
       "bpi_USD_description    0\n",
       "bpi_USD_rate_float     0\n",
       "bpi_GBP_code           0\n",
       "bpi_GBP_symbol         0\n",
       "bpi_GBP_rate           0\n",
       "bpi_GBP_description    0\n",
       "bpi_GBP_rate_float     0\n",
       "bpi_EUR_code           0\n",
       "bpi_EUR_symbol         0\n",
       "bpi_EUR_rate           0\n",
       "bpi_EUR_description    0\n",
       "bpi_EUR_rate_float     0\n",
       "dtype: int64"
      ]
     },
     "execution_count": 19,
     "metadata": {},
     "output_type": "execute_result"
    }
   ],
   "source": [
    "df.isna().sum()"
   ]
  },
  {
   "cell_type": "code",
   "execution_count": 20,
   "id": "1d74fb61",
   "metadata": {},
   "outputs": [
    {
     "data": {
      "text/plain": [
       "0"
      ]
     },
     "execution_count": 20,
     "metadata": {},
     "output_type": "execute_result"
    }
   ],
   "source": [
    "df.duplicated().sum()"
   ]
  },
  {
   "cell_type": "code",
   "execution_count": 12,
   "id": "a130978e",
   "metadata": {},
   "outputs": [
    {
     "name": "stdout",
     "output_type": "stream",
     "text": [
      "                time_updated            time_updatedISO  \\\n",
      "0  Jan 21, 2024 05:11:36 UTC  2024-01-21T05:11:36+00:00   \n",
      "\n",
      "              time_updateduk  \\\n",
      "0  Jan 21, 2024 at 05:11 GMT   \n",
      "\n",
      "                                          disclaimer chartName bpi_USD_code  \\\n",
      "0  This data was produced from the CoinDesk Bitco...   Bitcoin          USD   \n",
      "\n",
      "  bpi_USD_symbol  bpi_USD_rate   bpi_USD_description  bpi_USD_rate_float  \\\n",
      "0              $     41719.109  United States Dollar          41719.1089   \n",
      "\n",
      "  bpi_GBP_code bpi_GBP_symbol  bpi_GBP_rate     bpi_GBP_description  \\\n",
      "0          GBP              £     32839.363  British Pound Sterling   \n",
      "\n",
      "   bpi_GBP_rate_float bpi_EUR_code bpi_EUR_symbol  bpi_EUR_rate  \\\n",
      "0          32839.3634          EUR              €     38258.509   \n",
      "\n",
      "  bpi_EUR_description  bpi_EUR_rate_float  \n",
      "0                Euro          38258.5088  \n",
      "\n",
      "Average USD Rate: 41719.1089\n",
      "Max GBP Rate: 32839.3634\n"
     ]
    }
   ],
   "source": [
    "import pandas as pd\n",
    "\n",
    "# Create a DataFrame from the sample data\n",
    "df = pd.DataFrame(df)\n",
    "\n",
    "# Convert 'rate' columns to numeric values and replace symbols\n",
    "rate_columns = ['bpi_USD_rate', 'bpi_GBP_rate', 'bpi_EUR_rate']\n",
    "for column in rate_columns:\n",
    "    df[column] = df[column].replace({',': ''}, regex=True).astype(float)\n",
    "\n",
    "symbol_columns = ['bpi_USD_symbol', 'bpi_GBP_symbol', 'bpi_EUR_symbol']\n",
    "for column in symbol_columns:\n",
    "    df[column] = df[column].replace({'&#36;': '$', '&pound;': '£', '&euro;': '€'})\n",
    "\n",
    "# Display the DataFrame\n",
    "print(df)\n",
    "\n",
    "# Perform basic analysis\n",
    "average_rate_usd = df['bpi_USD_rate_float'].mean()\n",
    "max_rate_gbp = df['bpi_GBP_rate_float'].max()\n",
    "\n",
    "print(f\"\\nAverage USD Rate: {average_rate_usd}\")\n",
    "print(f\"Max GBP Rate: {max_rate_gbp}\")\n"
   ]
  },
  {
   "cell_type": "code",
   "execution_count": 14,
   "id": "a838e8fa",
   "metadata": {},
   "outputs": [
    {
     "data": {
      "text/html": [
       "<div>\n",
       "<style scoped>\n",
       "    .dataframe tbody tr th:only-of-type {\n",
       "        vertical-align: middle;\n",
       "    }\n",
       "\n",
       "    .dataframe tbody tr th {\n",
       "        vertical-align: top;\n",
       "    }\n",
       "\n",
       "    .dataframe thead th {\n",
       "        text-align: right;\n",
       "    }\n",
       "</style>\n",
       "<table border=\"1\" class=\"dataframe\">\n",
       "  <thead>\n",
       "    <tr style=\"text-align: right;\">\n",
       "      <th></th>\n",
       "      <th>bpi_USD_rate_float</th>\n",
       "      <th>bpi_GBP_rate_float</th>\n",
       "      <th>bpi_EUR_rate_float</th>\n",
       "    </tr>\n",
       "  </thead>\n",
       "  <tbody>\n",
       "    <tr>\n",
       "      <th>count</th>\n",
       "      <td>1.0000</td>\n",
       "      <td>1.0000</td>\n",
       "      <td>1.0000</td>\n",
       "    </tr>\n",
       "    <tr>\n",
       "      <th>mean</th>\n",
       "      <td>41719.1089</td>\n",
       "      <td>32839.3634</td>\n",
       "      <td>38258.5088</td>\n",
       "    </tr>\n",
       "    <tr>\n",
       "      <th>std</th>\n",
       "      <td>NaN</td>\n",
       "      <td>NaN</td>\n",
       "      <td>NaN</td>\n",
       "    </tr>\n",
       "    <tr>\n",
       "      <th>min</th>\n",
       "      <td>41719.1089</td>\n",
       "      <td>32839.3634</td>\n",
       "      <td>38258.5088</td>\n",
       "    </tr>\n",
       "    <tr>\n",
       "      <th>25%</th>\n",
       "      <td>41719.1089</td>\n",
       "      <td>32839.3634</td>\n",
       "      <td>38258.5088</td>\n",
       "    </tr>\n",
       "    <tr>\n",
       "      <th>50%</th>\n",
       "      <td>41719.1089</td>\n",
       "      <td>32839.3634</td>\n",
       "      <td>38258.5088</td>\n",
       "    </tr>\n",
       "    <tr>\n",
       "      <th>75%</th>\n",
       "      <td>41719.1089</td>\n",
       "      <td>32839.3634</td>\n",
       "      <td>38258.5088</td>\n",
       "    </tr>\n",
       "    <tr>\n",
       "      <th>max</th>\n",
       "      <td>41719.1089</td>\n",
       "      <td>32839.3634</td>\n",
       "      <td>38258.5088</td>\n",
       "    </tr>\n",
       "  </tbody>\n",
       "</table>\n",
       "</div>"
      ],
      "text/plain": [
       "       bpi_USD_rate_float  bpi_GBP_rate_float  bpi_EUR_rate_float\n",
       "count              1.0000              1.0000              1.0000\n",
       "mean           41719.1089          32839.3634          38258.5088\n",
       "std                   NaN                 NaN                 NaN\n",
       "min            41719.1089          32839.3634          38258.5088\n",
       "25%            41719.1089          32839.3634          38258.5088\n",
       "50%            41719.1089          32839.3634          38258.5088\n",
       "75%            41719.1089          32839.3634          38258.5088\n",
       "max            41719.1089          32839.3634          38258.5088"
      ]
     },
     "execution_count": 14,
     "metadata": {},
     "output_type": "execute_result"
    }
   ],
   "source": [
    "# 1. Display basic statistics of the numeric columns\n",
    "numeric_columns = ['bpi_USD_rate_float', 'bpi_GBP_rate_float', 'bpi_EUR_rate_float']\n",
    "numeric_stats = df[numeric_columns].describe()\n",
    "numeric_stats"
   ]
  },
  {
   "cell_type": "code",
   "execution_count": 16,
   "id": "22ad1e75",
   "metadata": {},
   "outputs": [
    {
     "data": {
      "image/png": "[encoded data removed]",
      "text/plain": [
       "<Figure size 640x480 with 1 Axes>"
      ]
     },
     "metadata": {},
     "output_type": "display_data"
    }
   ],
   "source": [
    "# 3. Visualize the rates using a bar plot\n",
    "import matplotlib.pyplot as plt\n",
    "\n",
    "# Set the style of the plot\n",
    "plt.style.use('ggplot')\n",
    "\n",
    "# Plotting\n",
    "df.plot(kind='bar', x='Currency', y=['bpi_USD_rate_float', 'bpi_GBP_rate_float', 'bpi_EUR_rate_float'],\n",
    "        title='Bitcoin Rates Across Currencies', ylabel='Rate', rot=0)\n",
    "plt.show()"
   ]
  },
  {
   "cell_type": "code",
   "execution_count": 28,
   "id": "54857eb9",
   "metadata": {},
   "outputs": [
    {
     "data": {
      "image/png": "[encoded data removed]",
      "text/plain": [
       "<Figure size 800x800 with 1 Axes>"
      ]
     },
     "metadata": {},
     "output_type": "display_data"
    }
   ],
   "source": [
    "# 7. Pie Chart to Show Distribution of Rates in USD, GBP, and EUR\n",
    "total_rates = df[['bpi_USD_rate_float', 'bpi_GBP_rate_float', 'bpi_EUR_rate_float']].sum()\n",
    "total_rates.plot(kind='pie', autopct='%1.1f%%', labels=total_rates.index, figsize=(8, 8), title='Distribution of Bitcoin Rates Across Currencies')\n",
    "plt.show()"
   ]
  },
  {
   "cell_type": "markdown",
   "id": "47725fc9",
   "metadata": {},
   "source": [
    "# Thank You!"
   ]
  }
 ],
 "metadata": {
  "kernelspec": {
   "display_name": "Python 3 (ipykernel)",
   "language": "python",
   "name": "python3"
  },
  "language_info": {
   "codemirror_mode": {
    "name": "ipython",
    "version": 3
   },
   "file_extension": ".py",
   "mimetype": "text/x-python",
   "name": "python",
   "nbconvert_exporter": "python",
   "pygments_lexer": "ipython3",
   "version": "3.11.5"
  }
 },
 "nbformat": 4,
 "nbformat_minor": 5
}
